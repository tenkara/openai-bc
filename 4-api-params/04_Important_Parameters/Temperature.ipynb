{
 "cells": [
  {
   "cell_type": "code",
   "execution_count": 2,
   "id": "39d7ac80",
   "metadata": {},
   "outputs": [],
   "source": [
    "import openai"
   ]
  },
  {
   "cell_type": "code",
   "execution_count": 3,
   "id": "96de38cc",
   "metadata": {},
   "outputs": [],
   "source": [
    "from dotenv import dotenv_values"
   ]
  },
  {
   "cell_type": "code",
   "execution_count": 4,
   "id": "3b630436",
   "metadata": {},
   "outputs": [],
   "source": [
    "config = dotenv_values(\"../../.env\")"
   ]
  },
  {
   "cell_type": "code",
   "execution_count": 5,
   "id": "b3cb65c7",
   "metadata": {},
   "outputs": [],
   "source": [
    "openai.api_key = config[\"OPENAI_API_KEY\"]"
   ]
  },
  {
   "cell_type": "code",
   "execution_count": 6,
   "id": "bb64e146",
   "metadata": {},
   "outputs": [
    {
     "data": {
      "text/plain": [
       "<OpenAIObject text_completion id=cmpl-7FZediDxb4TAEOZp1pXCbhK0Z9ygK at 0x218589f7170> JSON: {\n",
       "  \"choices\": [\n",
       "    {\n",
       "      \"finish_reason\": \"length\",\n",
       "      \"index\": 0,\n",
       "      \"logprobs\": null,\n",
       "      \"text\": \"\\n\\nOnce upon a time, there was a young girl named Sarah who lived in a small village. She was a kind and gentle soul, and she was loved by all who knew her.\\n\\nOne day, Sarah decided to take a walk in the nearby forest. As she walked, she noticed a small, white rabbit hopping along the path. She followed the rabbit, and soon found herself in a magical clearing.\\n\\nIn the center of the clearing was a large, old tree.\"\n",
       "    }\n",
       "  ],\n",
       "  \"created\": 1683946331,\n",
       "  \"id\": \"cmpl-7FZediDxb4TAEOZp1pXCbhK0Z9ygK\",\n",
       "  \"model\": \"text-davinci-003\",\n",
       "  \"object\": \"text_completion\",\n",
       "  \"usage\": {\n",
       "    \"completion_tokens\": 100,\n",
       "    \"prompt_tokens\": 4,\n",
       "    \"total_tokens\": 104\n",
       "  }\n",
       "}"
      ]
     },
     "execution_count": 6,
     "metadata": {},
     "output_type": "execute_result"
    }
   ],
   "source": [
    "openai.Completion.create(\n",
    "    model='text-davinci-003',\n",
    "    prompt='tell me a story',\n",
    "    max_tokens=100,\n",
    "    temperature=0\n",
    ")"
   ]
  },
  {
   "cell_type": "code",
   "execution_count": 8,
   "id": "fb1721fa",
   "metadata": {},
   "outputs": [
    {
     "data": {
      "text/plain": [
       "<OpenAIObject text_completion id=cmpl-7FZh8ptqXEfNCztyAIsyzzKbPFtJo at 0x218589f7e90> JSON: {\n",
       "  \"choices\": [\n",
       "    {\n",
       "      \"finish_reason\": \"stop\",\n",
       "      \"index\": 0,\n",
       "      \"logprobs\": null,\n",
       "      \"text\": \"\\nfox.\\nFoxes are curious, playful, and usually nocturnal animals, making them both mysterious and intriguing. The way they survive and adapt to the environment is fascinating and a reminder to appreciate their resilience and their contribution to a balance of nature.\"\n",
       "    }\n",
       "  ],\n",
       "  \"created\": 1683946486,\n",
       "  \"id\": \"cmpl-7FZh8ptqXEfNCztyAIsyzzKbPFtJo\",\n",
       "  \"model\": \"text-davinci-003\",\n",
       "  \"object\": \"text_completion\",\n",
       "  \"usage\": {\n",
       "    \"completion_tokens\": 52,\n",
       "    \"prompt_tokens\": 6,\n",
       "    \"total_tokens\": 58\n",
       "  }\n",
       "}"
      ]
     },
     "execution_count": 8,
     "metadata": {},
     "output_type": "execute_result"
    }
   ],
   "source": [
    "openai.Completion.create(\n",
    "    model='text-davinci-003',\n",
    "    prompt='My favorite animal is a ',\n",
    "    max_tokens=100,\n",
    "    temperature=1.3\n",
    ")"
   ]
  },
  {
   "cell_type": "code",
   "execution_count": 9,
   "id": "21332eb6",
   "metadata": {},
   "outputs": [],
   "source": [
    "import textwrap"
   ]
  },
  {
   "cell_type": "code",
   "execution_count": 10,
   "id": "def7a5ab",
   "metadata": {},
   "outputs": [],
   "source": [
    "def nice_print(dictionary):\n",
    "    # Setting -2 here will cause the model to repeat the same tokens over and over. Often, it will repeat the newline character ad infinitum.\n",
    "    for key, value in dictionary.items():\n",
    "        wrapped_text = \"\\n\".join(textwrap.wrap(value, width=120))\n",
    "        print(f\"{key}:\")\n",
    "        print(wrapped_text)\n",
    "        print(\"=\" * 120)"
   ]
  },
  {
   "cell_type": "code",
   "execution_count": 12,
   "id": "5785b8c4",
   "metadata": {},
   "outputs": [
    {
     "name": "stdout",
     "output_type": "stream",
     "text": [
      "Temperature 0:\n",
      "My favorite food is pizza. I love the combination of the doughy crust, the tangy tomato sauce, and the melty cheese. I\n",
      "also like to add different toppings like pepperoni, mushrooms, and olives. Pizza is a great meal for any occasion,\n",
      "whether it's a casual night in or a special celebration.\n",
      "========================================================================================================================\n",
      "Temperature 0.5:\n",
      "My favorite food is pizza. I love the combination of the cheese, sauce, and crust. I also love the variety of toppings\n",
      "that you can choose from, like pepperoni, mushrooms, onions, and olives. Pizza is a great meal for any time of day, and\n",
      "it's always a crowd pleaser.\n",
      "========================================================================================================================\n",
      "Temperature 1:\n",
      "My favorite food is pizza. It is always delicious, and it comes in so many different varieties. It can be topped with so\n",
      "many different toppings, such as pepperoni, mushrooms, olives, onions, peppers, and many more. I also love how easy it\n",
      "is to make - all you need to do is take some store-bought pizza dough, add your favorite toppings\n",
      "========================================================================================================================\n",
      "Temperature 1.5:\n",
      "My favorite food is not seaweed\n",
      "========================================================================================================================\n",
      "Temperature 2:\n",
      "My favorite food is…. cheeseburgers Credit goes to SheolfmenGruwhPassion and they loving masterpiece called a\n",
      "carnivowhditionedvized craved creation (slow river rapidly rising ring recording smell voice vision vintage victorious\n",
      "welcoming) as with kazakh covered canal salmon butterfly past dipped poultry fill fremay form featured fried blo one\n",
      "cooked brick exquisite s pisco, ed\n",
      "========================================================================================================================\n"
     ]
    }
   ],
   "source": [
    "nice_print(\n",
    "    {\n",
    "        f\"Temperature {temperature}\": openai.Completion.create(model=\"text-davinci-003\", prompt=\"\"\"My favorite food is\"\"\".strip(), max_tokens=75, echo=True, temperature=temperature)\n",
    "        .choices[0][\"text\"]\n",
    "        .strip()\n",
    "        for temperature in [0, 0.5, 1, 1.5, 2]\n",
    "    }\n",
    ")"
   ]
  },
  {
   "cell_type": "code",
   "execution_count": 15,
   "id": "ca995171",
   "metadata": {},
   "outputs": [
    {
     "data": {
      "text/plain": [
       "<OpenAIObject text_completion id=cmpl-7FZregVVTne45PlvQ70oZzYQH5s0F at 0x21859771b50> JSON: {\n",
       "  \"choices\": [\n",
       "    {\n",
       "      \"finish_reason\": \"stop\",\n",
       "      \"index\": 0,\n",
       "      \"logprobs\": null,\n",
       "      \"text\": \"\\n\\nSnickerdoodle, googly, boondoggle, flabbergasted, smithereens, bamboozle, kerfuffle, giggle, jiggery-pokery, wabbit, quackadoodle.\"\n",
       "    }\n",
       "  ],\n",
       "  \"created\": 1683947138,\n",
       "  \"id\": \"cmpl-7FZregVVTne45PlvQ70oZzYQH5s0F\",\n",
       "  \"model\": \"text-davinci-003\",\n",
       "  \"object\": \"text_completion\",\n",
       "  \"usage\": {\n",
       "    \"completion_tokens\": 52,\n",
       "    \"prompt_tokens\": 5,\n",
       "    \"total_tokens\": 57\n",
       "  }\n",
       "}"
      ]
     },
     "execution_count": 15,
     "metadata": {},
     "output_type": "execute_result"
    }
   ],
   "source": [
    "openai.Completion.create(\n",
    "    model='text-davinci-003',\n",
    "    prompt='funny words: ',\n",
    "    max_tokens=100,\n",
    "    temperature=0.1\n",
    ")"
   ]
  },
  {
   "cell_type": "code",
   "execution_count": null,
   "id": "89f73abc",
   "metadata": {},
   "outputs": [],
   "source": []
  }
 ],
 "metadata": {
  "kernelspec": {
   "display_name": "Python 3",
   "language": "python",
   "name": "python3"
  },
  "language_info": {
   "codemirror_mode": {
    "name": "ipython",
    "version": 3
   },
   "file_extension": ".py",
   "mimetype": "text/x-python",
   "name": "python",
   "nbconvert_exporter": "python",
   "pygments_lexer": "ipython3",
   "version": "3.11.2"
  }
 },
 "nbformat": 4,
 "nbformat_minor": 5
}
