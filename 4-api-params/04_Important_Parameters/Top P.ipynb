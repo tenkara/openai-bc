{
 "cells": [
  {
   "cell_type": "code",
   "execution_count": 1,
   "id": "39d7ac80",
   "metadata": {},
   "outputs": [],
   "source": [
    "import openai"
   ]
  },
  {
   "cell_type": "code",
   "execution_count": 2,
   "id": "96de38cc",
   "metadata": {},
   "outputs": [],
   "source": [
    "from dotenv import dotenv_values"
   ]
  },
  {
   "cell_type": "code",
   "execution_count": 3,
   "id": "3b630436",
   "metadata": {},
   "outputs": [],
   "source": [
    "config = dotenv_values(\"../../.env\")"
   ]
  },
  {
   "cell_type": "code",
   "execution_count": 4,
   "id": "b3cb65c7",
   "metadata": {},
   "outputs": [],
   "source": [
    "openai.api_key = config[\"OPENAI_API_KEY\"]"
   ]
  },
  {
   "cell_type": "code",
   "execution_count": 5,
   "id": "21332eb6",
   "metadata": {},
   "outputs": [],
   "source": [
    "import textwrap"
   ]
  },
  {
   "cell_type": "code",
   "execution_count": 6,
   "id": "def7a5ab",
   "metadata": {},
   "outputs": [],
   "source": [
    "def nice_print(dictionary):\n",
    "    # Setting -2 here will cause the model to repeat the same tokens over and over. Often, it will repeat the newline character ad infinitum.\n",
    "    for key, value in dictionary.items():\n",
    "        wrapped_text = \"\\n\".join(textwrap.wrap(value, width=120))\n",
    "        print(f\"{key}:\")\n",
    "        print(wrapped_text)\n",
    "        print(\"=\" * 120)"
   ]
  },
  {
   "cell_type": "code",
   "execution_count": 14,
   "id": "3e015ac4",
   "metadata": {},
   "outputs": [
    {
     "name": "stdout",
     "output_type": "stream",
     "text": [
      "{'counter: 8', 'counter: 4', 'counter: 5', 'counter: 9', 'counter: 2', 'counter: 7', 'counter: 6', 'counter: 1', 'counter: 0', 'counter: 3'}\n"
     ]
    },
    {
     "data": {
      "text/plain": [
       "set"
      ]
     },
     "execution_count": 14,
     "metadata": {},
     "output_type": "execute_result"
    }
   ],
   "source": [
    "txt = {f\"counter: {counter}\" for counter in range(10)}\n",
    "print(txt)\n",
    "type(txt)\n"
   ]
  },
  {
   "cell_type": "code",
   "execution_count": 15,
   "id": "021c20a4",
   "metadata": {},
   "outputs": [
    {
     "name": "stdout",
     "output_type": "stream",
     "text": [
      "['counter: 0', 'counter: 1', 'counter: 2', 'counter: 3', 'counter: 4', 'counter: 5', 'counter: 6', 'counter: 7', 'counter: 8', 'counter: 9']\n"
     ]
    },
    {
     "data": {
      "text/plain": [
       "list"
      ]
     },
     "execution_count": 15,
     "metadata": {},
     "output_type": "execute_result"
    }
   ],
   "source": [
    "txt = [f\"counter: {counter}\" for counter in range(10)]\n",
    "print(txt)\n",
    "type(txt)\n"
   ]
  },
  {
   "cell_type": "code",
   "execution_count": 7,
   "id": "437790d0",
   "metadata": {},
   "outputs": [
    {
     "name": "stdout",
     "output_type": "stream",
     "text": [
      "Top P 1:\n",
      "My favorite food is pizza. I love the way it combines all the flavors of the cheese, tomato sauce and the various\n",
      "toppings. Pizza is also so versatile as it can be made with a variety of different toppings and crusts to suit every\n",
      "appetite. I love to enjoy a slice of pizza with a glass of cold beer or some refreshment. It's a great meal for families\n",
      "and\n",
      "========================================================================================================================\n",
      "Top P 0.5:\n",
      "My favorite food is pizza. I love the combination of cheese, sauce, and dough. It's a classic that never gets old. Plus,\n",
      "you can customize it with whatever toppings you like. Whether it's pepperoni, mushrooms, olives, or pineapple, pizza is\n",
      "always a great choice.\n",
      "========================================================================================================================\n",
      "Top P 0:\n",
      "My favorite food is pizza. I love the combination of the doughy crust, the tangy tomato sauce, and the melty cheese. I\n",
      "also like to add different toppings like pepperoni, mushrooms, and olives. Pizza is a great meal for any occasion,\n",
      "whether it's a casual night in or a special celebration.\n",
      "========================================================================================================================\n"
     ]
    }
   ],
   "source": [
    "nice_print(\n",
    "    {\n",
    "        f\"Top P {top_p}\": openai.Completion.create(\n",
    "            model=\"text-davinci-003\",\n",
    "            prompt=\"\"\"My favorite food is\"\"\".strip(),\n",
    "            max_tokens=75,\n",
    "            echo=True,\n",
    "            top_p=top_p,\n",
    "        )\n",
    "        .choices[0][\"text\"]\n",
    "        .strip()\n",
    "        for top_p in [1, 0.5, 0]\n",
    "    }\n",
    ")"
   ]
  },
  {
   "cell_type": "code",
   "execution_count": 17,
   "id": "15d972c6",
   "metadata": {},
   "outputs": [
    {
     "name": "stdout",
     "output_type": "stream",
     "text": [
      "Top P 1:\n",
      "My favorite food is Waldorf dipping Cups\n",
      "========================================================================================================================\n",
      "Top P 0.75:\n",
      "My favorite food is pizza. I love pizza because it's a versatile food that can be made in a variety of different ways.\n",
      "It's also an easy meal to make when I'm in a hurry or don't have a lot of time to cook. I also love the way it tastes\n",
      "and the different toppings that can be added to make it more interesting.\n",
      "========================================================================================================================\n",
      "Top P 0.5:\n",
      "My favorite food is pizza. I love pizza because it is so versatile. You can top it with so many different toppings and\n",
      "sauces to make it unique. It is also a great comfort food and is always a crowd pleaser. I also love the fact that it is\n",
      "a great snack that can be enjoyed at any time of the day.\n",
      "========================================================================================================================\n",
      "Top P 0.25:\n",
      "My favorite food is pizza. I love the combination of the crunchy crust, the tangy tomato sauce, and the gooey cheese. I\n",
      "also love the variety of toppings that can be added to customize the pizza to my liking. Whether it's a classic\n",
      "pepperoni pizza or a more creative combination of toppings, pizza is always a delicious and satisfying meal.\n",
      "========================================================================================================================\n",
      "Top P 0:\n",
      "My favorite food is pizza. I love the combination of the doughy crust, the tangy tomato sauce, and the melty cheese. I\n",
      "also like to add different toppings like pepperoni, mushrooms, and olives. Pizza is a great meal for any occasion,\n",
      "whether it's a casual night in or a special celebration.\n",
      "========================================================================================================================\n"
     ]
    }
   ],
   "source": [
    "nice_print(\n",
    "    {\n",
    "        f\"Top P {top_p}\": openai.Completion.create(\n",
    "            model=\"text-davinci-003\",\n",
    "            prompt=\"\"\"My favorite food is\"\"\".strip(),\n",
    "            max_tokens=75,\n",
    "            echo=True,\n",
    "            temperature=2,\n",
    "            top_p=top_p,\n",
    "        )\n",
    "        .choices[0][\"text\"]\n",
    "        .strip()\n",
    "        for top_p in [1, 0.75, 0.5, 0.25, 0]\n",
    "    }\n",
    ")"
   ]
  },
  {
   "cell_type": "code",
   "execution_count": null,
   "id": "d8ffdbea",
   "metadata": {},
   "outputs": [],
   "source": []
  },
  {
   "cell_type": "code",
   "execution_count": null,
   "id": "4d31f362",
   "metadata": {},
   "outputs": [],
   "source": []
  }
 ],
 "metadata": {
  "kernelspec": {
   "display_name": "Python 3",
   "language": "python",
   "name": "python3"
  },
  "language_info": {
   "codemirror_mode": {
    "name": "ipython",
    "version": 3
   },
   "file_extension": ".py",
   "mimetype": "text/x-python",
   "name": "python",
   "nbconvert_exporter": "python",
   "pygments_lexer": "ipython3",
   "version": "3.11.2"
  }
 },
 "nbformat": 4,
 "nbformat_minor": 5
}
